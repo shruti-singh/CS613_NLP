{
 "cells": [
  {
   "cell_type": "code",
   "execution_count": 118,
   "metadata": {},
   "outputs": [],
   "source": [
    "from collections import defaultdict, Counter\n",
    "import matplotlib.pyplot as plt\n",
    "from operator import itemgetter\n",
    "\n",
    "import csv\n",
    "import spacy\n",
    "import re"
   ]
  },
  {
   "cell_type": "code",
   "execution_count": 119,
   "metadata": {},
   "outputs": [
    {
     "name": "stdout",
     "output_type": "stream",
     "text": [
      "24521\n"
     ]
    }
   ],
   "source": [
    "nlp = spacy.load(\"en\")\n",
    "\n",
    "tweets = []\n",
    "\n",
    "with open(\"tweets-dataset.csv\", \"r\", encoding=\"UTF-8\") as f:\n",
    "    reader = csv.DictReader(f)\n",
    "    for row in reader:\n",
    "        tweets.append(row['Sentence'])\n",
    "\n",
    "print(len(tweets))"
   ]
  },
  {
   "cell_type": "code",
   "execution_count": 120,
   "metadata": {},
   "outputs": [
    {
     "name": "stdout",
     "output_type": "stream",
     "text": [
      "@BubblyDentist @MeetUunngLee nahi nahi, mere saath jaakar pachtaogi. Ye Uunnglee is the best. All girls say that\n",
      "going to the grammys first entertainment law breakfast here in nyc tomorrow !  i'm so excited .  one step closer .  .  .\n",
      "bohot hi badiya ji aap sunao?\n",
      "Parvez Musharraf is Digvijay Singh of Pakistanhttps://twitter.com/IndiaToday/status/599994321610285058 …\n",
      "guddu ko bass john cena k sticker ki padii hai :d :d\n"
     ]
    }
   ],
   "source": [
    "#Print a small sample\n",
    "print(*tweets[0:5], sep=\"\\n\")"
   ]
  },
  {
   "cell_type": "markdown",
   "metadata": {},
   "source": [
    "Note that many tweets are in hindi but are written in roman script."
   ]
  },
  {
   "cell_type": "markdown",
   "metadata": {},
   "source": [
    "## TTR"
   ]
  },
  {
   "cell_type": "markdown",
   "metadata": {},
   "source": [
    "We want to calculate the TTR (Type Token Ratio) which will roughly give us an idea of, on average, how frequently a new word form appears in the corpus."
   ]
  },
  {
   "cell_type": "code",
   "execution_count": null,
   "metadata": {},
   "outputs": [],
   "source": [
    "#We perform basic cleanup of text like removing urls, mentions, and hashtags. For calculating the TTR, we ignore the punctuations and space and other special symbols(eg: :D, :p etc).\n",
    "\n",
    "word_list = []\n",
    "word_pos_dict = defaultdict()\n",
    "\n",
    "lemma_list = []\n",
    "lemma_pos_dict = defaultdict()\n",
    "\n",
    "cleaned_tweets_list = []\n",
    "\n",
    "url_pattern = re.compile(\"http[s]?://[a-zA-Z.//_0-9/-]*[a-z]?\")\n",
    "mention_pattern = re.compile(\"@[a-zA-Z0-9_]*\")\n",
    "hashtag_pattern = re.compile(\"#[a-zA-Z]*\")\n",
    "\n",
    "for tweet in tweets:\n",
    "    \n",
    "    url_cleaned_tweet = re.sub(url_pattern, \" \", tweet)\n",
    "    mention_cleaned_tweet = re.sub(mention_pattern, \" \", url_cleaned_tweet)\n",
    "    cleaned_tweet = re.sub(hashtag_pattern, \" \", mention_cleaned_tweet)\n",
    "    \n",
    "    cleaned_tweets_list.append(cleaned_tweet)\n",
    "    \n",
    "    doc = nlp(cleaned_tweet)\n",
    "    for s in doc.sents:\n",
    "        for token in s:\n",
    "            word = token.text.lower()\n",
    "            if token.pos_ not in [\"PUNCT\", \"SPACE\", \"SYM\"]:\n",
    "                word_list.append(word)\n",
    "                lemma_list.append(token.lemma_)\n",
    "                \n",
    "                if word in word_pos_dict:\n",
    "                    word_pos_dict[word].add(token.pos_)\n",
    "                else:\n",
    "                    word_pos_dict[word] = set({token.pos_, })\n",
    "                \n",
    "                if token.lemma_ in lemma_pos_dict:\n",
    "                    lemma_pos_dict[token.lemma_].add(token.pos_)\n",
    "                else:\n",
    "                    lemma_pos_dict[token.lemma_] = set({token.pos_, })"
   ]
  },
  {
   "cell_type": "code",
   "execution_count": 11,
   "metadata": {},
   "outputs": [
    {
     "name": "stdout",
     "output_type": "stream",
     "text": [
      "295063\n",
      "32297\n"
     ]
    }
   ],
   "source": [
    "print(len(word_list))\n",
    "print(len(word_pos_dict))"
   ]
  },
  {
   "cell_type": "markdown",
   "metadata": {},
   "source": [
    "Ideally we should use lemma to calculate TTR but since the language is hindi written in roman script, we don't have appropriate models for this, and hence we use the space delimited words only for calculation of TTR. "
   ]
  },
  {
   "cell_type": "markdown",
   "metadata": {},
   "source": [
    "We check the lemmatized list of words but drop it from further analysis as the lemmatization is not appropriate."
   ]
  },
  {
   "cell_type": "markdown",
   "metadata": {},
   "source": [
    "Computation of Type Token Ratio (TTR) = #types/#tokens"
   ]
  },
  {
   "cell_type": "code",
   "execution_count": 13,
   "metadata": {},
   "outputs": [
    {
     "name": "stdout",
     "output_type": "stream",
     "text": [
      "32297\n",
      "295063\n",
      "0.10945798016016918\n"
     ]
    }
   ],
   "source": [
    "type_counter = Counter(word_list)\n",
    "\n",
    "type_count = len(type_counter)\n",
    "# print(type_count)\n",
    "\n",
    "token_count = len(word_list)\n",
    "# print(token_count)\n",
    "\n",
    "TTR = type_count/token_count\n",
    "\n",
    "print(\"TTR = \", TTR)"
   ]
  },
  {
   "cell_type": "code",
   "execution_count": 14,
   "metadata": {},
   "outputs": [
    {
     "data": {
      "text/plain": [
       "[('hai', 10079),\n",
       " ('to', 4124),\n",
       " ('ki', 3216),\n",
       " ('nahi', 3171),\n",
       " ('ke', 3170),\n",
       " ('bhi', 2927),\n",
       " ('the', 2859),\n",
       " ('se', 2599),\n",
       " ('ho', 2344),\n",
       " ('ka', 2304)]"
      ]
     },
     "execution_count": 14,
     "metadata": {},
     "output_type": "execute_result"
    }
   ],
   "source": [
    "#Top 10 frequently occuring types\n",
    "type_counter.most_common(10)"
   ]
  },
  {
   "cell_type": "code",
   "execution_count": 16,
   "metadata": {},
   "outputs": [
    {
     "data": {
      "image/png": "[encoded data removed]",
      "text/plain": [
       "<Figure size 432x288 with 1 Axes>"
      ]
     },
     "metadata": {
      "needs_background": "light"
     },
     "output_type": "display_data"
    }
   ],
   "source": [
    "# Plot the power law of frequency and rank\n",
    "import matplotlib.pyplot as plt\n",
    "plt.scatter(list(range(1, len(type_counter)+1)), sorted(list(type_counter.values()), reverse=True))\n",
    "plt.xlabel('Rank')\n",
    "plt.ylabel('Type frequency')\n",
    "plt.xscale('log')\n",
    "plt.yscale('log')\n",
    "plt.show()"
   ]
  },
  {
   "cell_type": "code",
   "execution_count": 18,
   "metadata": {},
   "outputs": [],
   "source": [
    "import pickle\n",
    "\n",
    "with open('wordlist1.pkl', 'wb') as f:\n",
    "    pickle.dump(word_list, f)\n",
    "\n",
    "with open('wordposdict1.pkl', 'wb') as f:\n",
    "    pickle.dump(word_pos_dict, f)\n"
   ]
  },
  {
   "cell_type": "code",
   "execution_count": 116,
   "metadata": {},
   "outputs": [
    {
     "name": "stdout",
     "output_type": "stream",
     "text": [
      "[('hai', 10079), ('to', 4124), ('ki', 3216), ('nahi', 3171), ('ke', 3170), ('bhi', 2927), ('the', 2859), ('se', 2599), ('ho', 2344), ('ka', 2304), ('bhai', 2260), ('ko', 2211), ('me', 1949), ('ye', 1863), ('kya', 1811), ('hi', 1796), ('aur', 1790), ('kar', 1684), ('i', 1515), ('in', 1372)]\n"
     ]
    }
   ],
   "source": [
    "word_freq = Counter(word_list)\n",
    "print(word_freq.most_common(20))\n"
   ]
  },
  {
   "cell_type": "markdown",
   "metadata": {},
   "source": [
    "# Zipf's Law"
   ]
  },
  {
   "cell_type": "markdown",
   "metadata": {},
   "source": [
    "1. Plot the power law of frequency and rank. $\\text{frequency} \\propto \\frac{1}{\\text{Rank}}$"
   ]
  },
  {
   "cell_type": "code",
   "execution_count": 73,
   "metadata": {},
   "outputs": [
    {
     "data": {
      "image/png": "[encoded data removed]",
      "text/plain": [
       "<Figure size 432x288 with 1 Axes>"
      ]
     },
     "metadata": {
      "needs_background": "light"
     },
     "output_type": "display_data"
    }
   ],
   "source": [
    "plt.scatter(list(range(1, len(type_counter)+1)), sorted(list(type_counter.values()), reverse=True))\n",
    "plt.xlabel('Rank')\n",
    "plt.ylabel('TypeFrequency')\n",
    "plt.xscale('log')\n",
    "plt.yscale('log')\n",
    "plt.show()"
   ]
  },
  {
   "cell_type": "markdown",
   "metadata": {},
   "source": [
    "We get a straight line on the log-log plot."
   ]
  },
  {
   "cell_type": "markdown",
   "metadata": {},
   "source": [
    "2. Zipf's law for meaning: $\\text{#meanings} \\propto \\sqrt{\\text{frequency}} \\propto \\frac{1}{\\sqrt{\\text{Rank}}}$"
   ]
  },
  {
   "cell_type": "code",
   "execution_count": 117,
   "metadata": {},
   "outputs": [
    {
     "name": "stdout",
     "output_type": "stream",
     "text": [
      "[('hai', 10079), ('to', 4124), ('ki', 3216), ('nahi', 3171), ('ke', 3170), ('bhi', 2927), ('the', 2859), ('se', 2599), ('ho', 2344), ('ka', 2304)]\n"
     ]
    }
   ],
   "source": [
    "freq_sorted_words = sorted(list(type_counter.items()), key=itemgetter(1), reverse=True)\n",
    "print(freq_sorted_words[0:10])"
   ]
  },
  {
   "cell_type": "markdown",
   "metadata": {},
   "source": [
    "We have multiple meanings of the same word in hindi. For eg: safai means cleanliness and justification both, aam means mango and ordinary, baal means student and hair strand. However, we don't have enough data to emperically evaluate the value of k in $#meaning \\propto \\frac{1}{\\sqrt{rank}}$"
   ]
  },
  {
   "cell_type": "markdown",
   "metadata": {},
   "source": [
    "3. Zipf's law for word length and frequency: $\\text{length} \\propto \\frac{1}{\\text{frequency}} \\propto \\text{rank}$"
   ]
  },
  {
   "cell_type": "code",
   "execution_count": 115,
   "metadata": {},
   "outputs": [
    {
     "data": {
      "image/png": "[encoded data removed]",
      "text/plain": [
       "<Figure size 432x288 with 1 Axes>"
      ]
     },
     "metadata": {
      "needs_background": "light"
     },
     "output_type": "display_data"
    }
   ],
   "source": [
    "#Rank vs Word length plot\n",
    "word_lengths_rank_sorted = [len(x[0]) for x in freq_sorted_words]\n",
    "\n",
    "# vowels = ['a', 'e', 'i', 'o', 'u']\n",
    "# wl_rank_sorted = []\n",
    "# for word in freq_sorted_words:\n",
    "#     tok = word[0]\n",
    "#     if tok:\n",
    "#         for v in vowels:\n",
    "#             tok = tok.replace(v, '')\n",
    "#         wl_rank_sorted.append(len(tok))\n",
    "\n",
    "plt.scatter(list(range(1, len(word_lengths_rank_sorted)+1)), word_lengths_rank_sorted)\n",
    "plt.xlabel('rank')\n",
    "plt.ylabel('word length')\n",
    "plt.show()"
   ]
  },
  {
   "cell_type": "markdown",
   "metadata": {},
   "source": [
    "We expect a straight line as the length of the word is directly proportional to it's rank. However, the issue is that we are counting the length of the words in roman script while the tokens are actually a mix of hindi and english words. Also, one more issue is that we haven't lemmatized the words."
   ]
  },
  {
   "cell_type": "markdown",
   "metadata": {},
   "source": [
    "## Heap's Law:    $|V| = k N^{\\beta}$"
   ]
  },
  {
   "cell_type": "markdown",
   "metadata": {},
   "source": [
    "V = Vocab, N = Number of tokens; typically k $\\approx$ 10-100 and $\\beta$ $\\approx$ 0.4-0.6"
   ]
  },
  {
   "cell_type": "code",
   "execution_count": 114,
   "metadata": {},
   "outputs": [
    {
     "data": {
      "image/png": "[encoded data removed]",
      "text/plain": [
       "<Figure size 432x288 with 1 Axes>"
      ]
     },
     "metadata": {
      "needs_background": "light"
     },
     "output_type": "display_data"
    }
   ],
   "source": [
    "len(cleaned_tweets_list)\n",
    "\n",
    "vocab = set()\n",
    "corpus_size = []\n",
    "vocab_size = []\n",
    "\n",
    "corpus_len = 0\n",
    "\n",
    "for i in range(0, len(cleaned_tweets_list)):\n",
    "    doc = nlp(cleaned_tweets_list[i])\n",
    "    for s in doc.sents:\n",
    "        for token in s:\n",
    "            word = token.text.lower()\n",
    "            if token.pos_ not in [\"PUNCT\", \"SPACE\", \"SYM\"]:\n",
    "                vocab.add(word)\n",
    "                corpus_len = corpus_len + 1\n",
    "    if i>1000 and i%1000==0:\n",
    "        corpus_size.append(corpus_len)\n",
    "        vocab_size.append(len(vocab))\n",
    "\n",
    "plt.scatter(corpus_size, vocab_size)\n",
    "plt.xlabel('Size of corpus')\n",
    "plt.ylabel('Vocab size')\n",
    "plt.show()"
   ]
  },
  {
   "cell_type": "markdown",
   "metadata": {},
   "source": [
    "Curve fitting to find values of parameters k and $\\beta$:"
   ]
  },
  {
   "cell_type": "code",
   "execution_count": 113,
   "metadata": {},
   "outputs": [
    {
     "name": "stdout",
     "output_type": "stream",
     "text": [
      "Popt=  [ 0.61031574 14.93231934]\n"
     ]
    },
    {
     "data": {
      "image/png": "[encoded data removed]",
      "text/plain": [
       "<Figure size 432x288 with 1 Axes>"
      ]
     },
     "metadata": {
      "needs_background": "light"
     },
     "output_type": "display_data"
    }
   ],
   "source": [
    "from scipy.optimize import curve_fit\n",
    "\n",
    "# $|V| = k N^{\\beta}$\n",
    "def func_powerlaw(x, beta, k):\n",
    "    return x**beta * k\n",
    "\n",
    "target_func = func_powerlaw\n",
    "popt, pcov = curve_fit(func_powerlaw, corpus_size, vocab_size, maxfev=2000)\n",
    "plt.scatter(corpus_size, vocab_size)\n",
    "plt.plot(corpus_size, target_func(corpus_size, *popt), 'r--')\n",
    "plt.xlabel('Size of corpus')\n",
    "plt.ylabel('Vocab size')\n",
    "print(\"Popt= \", popt)"
   ]
  },
  {
   "cell_type": "markdown",
   "metadata": {},
   "source": [
    "From above, we can see that $\\beta = 0.61, \\text{and k} = 14.93$"
   ]
  }
 ],
 "metadata": {
  "kernelspec": {
   "display_name": "Python 3",
   "language": "python",
   "name": "python3"
  },
  "language_info": {
   "codemirror_mode": {
    "name": "ipython",
    "version": 3
   },
   "file_extension": ".py",
   "mimetype": "text/x-python",
   "name": "python",
   "nbconvert_exporter": "python",
   "pygments_lexer": "ipython3",
   "version": "3.5.2"
  }
 },
 "nbformat": 4,
 "nbformat_minor": 2
}
